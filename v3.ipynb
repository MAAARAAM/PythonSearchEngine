{
 "cells": [
  {
   "cell_type": "code",
   "execution_count": 2,
   "metadata": {},
   "outputs": [
    {
     "name": "stderr",
     "output_type": "stream",
     "text": [
      "[nltk_data] Downloading package stopwords to\n",
      "[nltk_data]     C:\\Users\\skand\\AppData\\Roaming\\nltk_data...\n",
      "[nltk_data]   Package stopwords is already up-to-date!\n"
     ]
    },
    {
     "name": "stdout",
     "output_type": "stream",
     "text": [
      "Matrice TF construite. Dimensions : (200, 20722)\n",
      "Construction de la matrice TFxIDF...\n",
      "Matrice TFxIDF construite. Dimensions : (200, 20722)\n"
     ]
    },
    {
     "data": {
      "application/vnd.jupyter.widget-view+json": {
       "model_id": "93b4bf0ca7f14c9da2a1b108089b544f",
       "version_major": 2,
       "version_minor": 0
      },
      "text/plain": [
       "VBox(children=(Label(value='\\nMoteur de Recherche de Corpus\\n'), HBox(children=(Text(value='', description='Re…"
      ]
     },
     "metadata": {},
     "output_type": "display_data"
    }
   ],
   "source": [
    "import pandas as pd\n",
    "import matplotlib.pyplot as plt\n",
    "from nltk.corpus import stopwords\n",
    "from Corpus import Corpus_v2\n",
    "from Document import NewsAPIDocument, GuardianDocument\n",
    "from SearchEngine import SearchEngine\n",
    "from colorama import init\n",
    "from tabulate import tabulate\n",
    "import nltk\n",
    "from tqdm import tqdm\n",
    "import ipywidgets as widgets\n",
    "from IPython.display import display, clear_output\n",
    "\n",
    "nltk.download('stopwords')\n",
    "init(autoreset=True)\n",
    "\n",
    "def main():\n",
    "    \"\"\"\n",
    "    Combine functionalities of v1 and v2, and introduce enhancements from TD8.\n",
    "    All features are encapsulated within an interactive interface.\n",
    "    \"\"\"\n",
    "    # Step 1: Initialize Corpus and Load Data\n",
    "    corpus_v2 = Corpus_v2(\"MonCorpusV3\")\n",
    "\n",
    "    newsapi_data = corpus_v2.fetch_newsapi_data('deep learning', page_size=100)\n",
    "    newsapi_data['type'] = 'newsapi'\n",
    "\n",
    "    guardian_data = corpus_v2.fetch_guardian_data('deep learning', page_size=100)\n",
    "    guardian_data['type'] = 'guardian'\n",
    "\n",
    "    combined_data = pd.concat([newsapi_data, guardian_data], ignore_index=True)\n",
    "\n",
    "    for index, row in combined_data.iterrows():\n",
    "        if row['type'] == 'newsapi':\n",
    "            doc = NewsAPIDocument(\n",
    "                titre=row.get('Title', 'No title available'),\n",
    "                auteur=row.get('Author', 'No author available'),\n",
    "                date=row.get('PublishedAt', 'No date available'),\n",
    "                texte=row.get('Content', 'No content available'),\n",
    "                description=row.get('Description', 'No description available')\n",
    "            )\n",
    "        elif row['type'] == 'guardian':\n",
    "            doc = GuardianDocument(\n",
    "                titre=row.get('Title', 'No title available'),\n",
    "                auteur=row.get('Author', 'No author available'),\n",
    "                date=row.get('PublishedAt', 'No date available'),\n",
    "                texte=row.get('Content', 'No content available'),\n",
    "                description=row.get('Description', 'No description available')\n",
    "            )\n",
    "        corpus_v2.add_document(doc)\n",
    "\n",
    "    # Step 2: Search Engine Initialization\n",
    "    search_engine = SearchEngine(corpus_v2)\n",
    "\n",
    "    # Step 3: Interface Widgets\n",
    "    title_label = widgets.Label(\"\\nMoteur de Recherche de Corpus\\n\")\n",
    "    query_input = widgets.Text(description=\"Requête:\")\n",
    "    num_docs_slider = widgets.IntSlider(value=5, min=1, max=20, step=1, description=\"Nb docs:\")\n",
    "    search_type_dropdown = widgets.Dropdown(\n",
    "        options=['Recherche simple', 'Recherche avancée', 'Concordance'],\n",
    "        value='Recherche simple',\n",
    "        description='Type:'\n",
    "    )\n",
    "    output_area = widgets.Output()\n",
    "    search_button = widgets.Button(description=\"Rechercher\")\n",
    "\n",
    "    def on_search_click(b):\n",
    "        \"\"\"Handle search button click.\"\"\"\n",
    "        with output_area:\n",
    "            clear_output()\n",
    "            query = query_input.value.strip()\n",
    "            num_docs = num_docs_slider.value\n",
    "            search_type = search_type_dropdown.value\n",
    "\n",
    "            if not query:\n",
    "                print(\"Veuillez entrer une requête valide.\")\n",
    "                return\n",
    "\n",
    "            if search_type == 'Recherche simple':\n",
    "                results = search_engine.search(query, n_documents=num_docs)\n",
    "            elif search_type == 'Recherche avancée':\n",
    "                results = search_engine.advanced_search(query, n_documents=num_docs)\n",
    "            elif search_type == 'Concordance':\n",
    "                results = corpus_v2.concorde(query, context_size=3)\n",
    "            else:\n",
    "                print(\"Type de recherche non reconnu.\")\n",
    "                return\n",
    "\n",
    "            if results.empty:\n",
    "                print(f\"Aucun résultat trouvé pour : '{query}'.\")\n",
    "            else:\n",
    "                print(\"\\nRésultats de la recherche :\")\n",
    "                print(tabulate(results, headers=\"keys\", tablefmt=\"grid\", showindex=False))\n",
    "\n",
    "    search_button.on_click(on_search_click)\n",
    "\n",
    "    # Layout\n",
    "    interface = widgets.VBox([\n",
    "        title_label,\n",
    "        widgets.HBox([query_input, num_docs_slider, search_type_dropdown]),\n",
    "        search_button,\n",
    "        output_area\n",
    "    ])\n",
    "\n",
    "    display(interface)\n",
    "\n",
    "if __name__ == \"__main__\":\n",
    "    main()\n"
   ]
  }
 ],
 "metadata": {
  "kernelspec": {
   "display_name": "Python 3",
   "language": "python",
   "name": "python3"
  },
  "language_info": {
   "codemirror_mode": {
    "name": "ipython",
    "version": 3
   },
   "file_extension": ".py",
   "mimetype": "text/x-python",
   "name": "python",
   "nbconvert_exporter": "python",
   "pygments_lexer": "ipython3",
   "version": "3.12.6"
  }
 },
 "nbformat": 4,
 "nbformat_minor": 2
}
